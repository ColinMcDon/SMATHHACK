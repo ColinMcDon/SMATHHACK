{
  "nbformat": 4,
  "nbformat_minor": 0,
  "metadata": {
    "colab": {
      "provenance": [],
      "include_colab_link": true
    },
    "kernelspec": {
      "name": "python3",
      "display_name": "Python 3"
    },
    "language_info": {
      "name": "python"
    }
  },
  "cells": [
    {
      "cell_type": "markdown",
      "metadata": {
        "id": "view-in-github",
        "colab_type": "text"
      },
      "source": [
        "<a href=\"https://colab.research.google.com/github/ColinMcDon/SMATHHACK/blob/main/Map_due_6_30_sunday.ipynb\" target=\"_parent\"><img src=\"https://colab.research.google.com/assets/colab-badge.svg\" alt=\"Open In Colab\"/></a>"
      ]
    },
    {
      "cell_type": "code",
      "source": [
        "#Take user inpit\n",
        "\n",
        "#The input unit for the user\n",
        "inputUnit = input('''What unit do you want to input your information as? Answer by saying tons, lbs, or bags Note this is based on averages and that tons and pounds are the most accurate.\n",
        "tons of waste (tons)\n",
        "pounds of waste (lbs)\n",
        "number of full trash bags (bags)\n",
        "Enter choice here: ''')\n",
        "\n",
        "if not(inputUnit == \"tons\" or inputUnit == \"lbs\" or inputUnit == \"bags\"):\n",
        "  print(\"Error, unit input not reconized. Defaulting to tons.\")\n",
        "\n",
        "weight = float(input(\"How many \" + inputUnit + \" of trash do you have? \"))\n",
        "\n",
        "#convert weight to tons\n",
        "\n",
        "if inputUnit == \"lbs\":\n",
        "  weight = weight/2000\n",
        "elif inputUnit == \"bags\":\n",
        "  weight = weight/200\n"
      ],
      "metadata": {
        "id": "MNNEZZmfFIag",
        "colab": {
          "base_uri": "https://localhost:8080/"
        },
        "outputId": "004faf1a-3e68-4444-c8da-f3b8df89a442"
      },
      "execution_count": null,
      "outputs": [
        {
          "name": "stdout",
          "output_type": "stream",
          "text": [
            "What unit do you want to input your information as? Answer by saying tons, lbs, or bags Note this is based on averages and that tons and pounds are the most accurate.\n",
            "tons of waste (tons)\n",
            "pounds of waste (lbs)\n",
            "number of full trash bags (bags)\n",
            "Enter choice here: tons\n",
            "How many tons of trash do you have? 97\n"
          ]
        }
      ]
    },
    {
      "cell_type": "code",
      "source": [
        "#ask user input what output they want\n",
        "outputUnit = input('''What units do you want as an output? Possible options are:\n",
        "kwhs saved (kwh)\n",
        "number of homes powered (homes)\n",
        "tons of coal saved (coal)\n",
        "gallons of oil saved (oil)\n",
        "cubic feet of natural gas (gas)\n",
        "all fossils fuel information (fossils)\n",
        "or all of the above (all)\n",
        "Enter choice here: ''')"
      ],
      "metadata": {
        "colab": {
          "base_uri": "https://localhost:8080/"
        },
        "id": "WKn5aBaCH1jN",
        "outputId": "6880ee70-dc3d-4ae7-cae2-d1d4572a8260"
      },
      "execution_count": null,
      "outputs": [
        {
          "name": "stdout",
          "output_type": "stream",
          "text": [
            "What units do you want as an output? Possible options are:\n",
            "kwhs saved (kwh)\n",
            "number of homes powered (homes)\n",
            "tons of coal saved (coal)\n",
            "gallons of oil saved (oil)\n",
            "cubic feet of natural gas (gas)\n",
            "all fossils fuel information (fossils)\n",
            "or all of the above (all)\n",
            "Enter choice here: all\n"
          ]
        }
      ]
    },
    {
      "cell_type": "code",
      "source": [
        "#kwh, homes powered, tons coal saved, gallons oil saved\n",
        "kwh = weight*550\n",
        "print(\"That would be able to make \" + str(kwh) + \" kwhs of energy!\")\n",
        "\n",
        "#function to output each unit\n",
        "def outputOtherUnits(unit, factor, messagep1, messagep2):\n",
        "\n",
        "  if (outputUnit == unit or outputUnit == \"all\") or ((outputUnit == \"fossils\") and (unit == \"coal\" or unit == \"oil\" or unit == \"gas\")):\n",
        "\n",
        "    finalNumber = round(kwh/factor, 2)\n",
        "    if finalNumber == 0:\n",
        "      finalNumber = round(kwh/factor, 4)\n",
        "    print(messagep1 + \" \" + str(finalNumber) + \" \" + messagep2)\n",
        "\n",
        "#print requested info\n",
        "outputOtherUnits(\"homes\", 886, \"That's enough energy to power\", \"homes for a month!\")\n",
        "outputOtherUnits(\"coal\", 8141, \"That's enough energy to save\", \"tons of coal!\")\n",
        "outputOtherUnits(\"oil\", 12.69, \"That's enough energy to save\", \"gallons of oil!\")\n",
        "outputOtherUnits(\"gas\", .2931, \"That's enough energy to save\", \"cubic feet of natural gas!\")"
      ],
      "metadata": {
        "colab": {
          "base_uri": "https://localhost:8080/"
        },
        "id": "dOxL2IrtH_NI",
        "outputId": "ab68c98f-9566-4b14-b1d3-ba670e2a4876"
      },
      "execution_count": null,
      "outputs": [
        {
          "output_type": "stream",
          "name": "stdout",
          "text": [
            "That would be able to make 53350.0 kwhs of energy!\n",
            "That's enough energy to power 60.21 homes for a month!\n",
            "That's enough energy to save 6.55 tons of coal!\n",
            "That's enough energy to save 4204.1 gallons of oil!\n",
            "That's enough energy to save 182019.79 cubic feet of natural gas!\n"
          ]
        }
      ]
    }
  ]
}